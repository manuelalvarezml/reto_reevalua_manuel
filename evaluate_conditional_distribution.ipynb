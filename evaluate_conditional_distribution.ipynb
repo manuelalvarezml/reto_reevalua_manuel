{
 "cells": [
  {
   "cell_type": "code",
   "execution_count": 7,
   "id": "1eb5cd90-9917-4983-ac59-ab144529bf9a",
   "metadata": {},
   "outputs": [
    {
     "name": "stderr",
     "output_type": "stream",
     "text": [
      "/var/folders/rh/yvrpkh0j1sz5_xlbzsnz53000000gn/T/ipykernel_44864/1832192336.py:9: FutureWarning: A value is trying to be set on a copy of a DataFrame or Series through chained assignment using an inplace method.\n",
      "The behavior will change in pandas 3.0. This inplace method will never work because the intermediate object on which we are setting values always behaves as a copy.\n",
      "\n",
      "For example, when doing 'df[col].method(value, inplace=True)', try using 'df.method({col: value}, inplace=True)' or df[col] = df[col].method(value) instead, to perform the operation inplace on the original object.\n",
      "\n",
      "\n",
      "  df[\"Saving accounts\"].fillna(\"unknown\", inplace=True)\n",
      "/var/folders/rh/yvrpkh0j1sz5_xlbzsnz53000000gn/T/ipykernel_44864/1832192336.py:10: FutureWarning: A value is trying to be set on a copy of a DataFrame or Series through chained assignment using an inplace method.\n",
      "The behavior will change in pandas 3.0. This inplace method will never work because the intermediate object on which we are setting values always behaves as a copy.\n",
      "\n",
      "For example, when doing 'df[col].method(value, inplace=True)', try using 'df.method({col: value}, inplace=True)' or df[col] = df[col].method(value) instead, to perform the operation inplace on the original object.\n",
      "\n",
      "\n",
      "  df[\"Checking account\"].fillna(\"unknown\", inplace=True)\n"
     ]
    }
   ],
   "source": [
    "import pandas as pd\n",
    "import os\n",
    "\n",
    "# Load data\n",
    "FILE = \"data_files/credit_risk_with_targets_cleaned_final.csv\"\n",
    "df = pd.read_csv(FILE)\n",
    "\n",
    "# Step 1: Fill missing values\n",
    "df[\"Saving accounts\"].fillna(\"unknown\", inplace=True)\n",
    "df[\"Checking account\"].fillna(\"unknown\", inplace=True)\n",
    "\n",
    "# Step 2: Extract features and labels (No description)\n",
    "X = df[[\"Age\", \"Sex\", \"Job\", \"Housing\", \"Saving accounts\", \"Checking account\", \"Credit amount\", \"Duration\", \"Purpose\"]]\n",
    "y = df[\"target\"].map({\"good risk\": 1, \"bad risk\": 0})  # Binary label"
   ]
  },
  {
   "cell_type": "code",
   "execution_count": 3,
   "id": "4a45dac9-e5b9-46ee-816f-0770dcb548ee",
   "metadata": {
    "scrolled": true
   },
   "outputs": [
    {
     "name": "stdout",
     "output_type": "stream",
     "text": [
      "🔍 Distribución de 'target' según la columna: Age\n",
      "Age  target   \n",
      "19   bad risk     0.500000\n",
      "     good risk    0.500000\n",
      "20   good risk    0.571429\n",
      "     bad risk     0.428571\n",
      "21   bad risk     0.642857\n",
      "                    ...   \n",
      "70   bad risk     1.000000\n",
      "74   bad risk     0.750000\n",
      "     good risk    0.250000\n",
      "75   bad risk     0.500000\n",
      "     good risk    0.500000\n",
      "Name: proportion, Length: 100, dtype: float64\n",
      "==================================================\n",
      "🔍 Distribución de 'target' según la columna: Sex\n",
      "Sex     target   \n",
      "female  good risk    0.806452\n",
      "        bad risk     0.193548\n",
      "male    good risk    0.752174\n",
      "        bad risk     0.247826\n",
      "Name: proportion, dtype: float64\n",
      "==================================================\n",
      "🔍 Distribución de 'target' según la columna: Job\n",
      "Job  target   \n",
      "0    bad risk     0.772727\n",
      "     good risk    0.227273\n",
      "1    good risk    0.790000\n",
      "     bad risk     0.210000\n",
      "2    good risk    0.780952\n",
      "     bad risk     0.219048\n",
      "3    good risk    0.770270\n",
      "     bad risk     0.229730\n",
      "Name: proportion, dtype: float64\n",
      "==================================================\n",
      "🔍 Distribución de 'target' según la columna: Housing\n",
      "Housing  target   \n",
      "free     good risk    0.601852\n",
      "         bad risk     0.398148\n",
      "own      good risk    0.828892\n",
      "         bad risk     0.171108\n",
      "rent     good risk    0.631285\n",
      "         bad risk     0.368715\n",
      "Name: proportion, dtype: float64\n",
      "==================================================\n",
      "🔍 Distribución de 'target' según la columna: Saving accounts\n",
      "Saving accounts  target   \n",
      "little           good risk    0.674959\n",
      "                 bad risk     0.325041\n",
      "moderate         good risk    0.961165\n",
      "                 bad risk     0.038835\n",
      "quite rich       good risk    0.952381\n",
      "                 bad risk     0.047619\n",
      "rich             good risk    1.000000\n",
      "unknown          good risk    0.846995\n",
      "                 bad risk     0.153005\n",
      "Name: proportion, dtype: float64\n",
      "==================================================\n",
      "🔍 Distribución de 'target' según la columna: Checking account\n",
      "Checking account  target   \n",
      "little            good risk    0.616788\n",
      "                  bad risk     0.383212\n",
      "moderate          good risk    0.858736\n",
      "                  bad risk     0.141264\n",
      "rich              good risk    0.968254\n",
      "                  bad risk     0.031746\n",
      "unknown           good risk    0.781726\n",
      "                  bad risk     0.218274\n",
      "Name: proportion, dtype: float64\n",
      "==================================================\n",
      "🔍 Distribución de 'target' según la columna: Credit amount\n",
      "Credit amount  target   \n",
      "250            good risk    1.0\n",
      "276            good risk    1.0\n",
      "338            good risk    1.0\n",
      "339            good risk    1.0\n",
      "343            good risk    1.0\n",
      "                           ... \n",
      "15653          bad risk     1.0\n",
      "15672          good risk    1.0\n",
      "15857          good risk    1.0\n",
      "15945          bad risk     1.0\n",
      "18424          good risk    1.0\n",
      "Name: proportion, Length: 957, dtype: float64\n",
      "==================================================\n",
      "🔍 Distribución de 'target' según la columna: Duration\n",
      "Duration  target   \n",
      "4         good risk    0.666667\n",
      "          bad risk     0.333333\n",
      "5         bad risk     1.000000\n",
      "6         good risk    0.826667\n",
      "          bad risk     0.173333\n",
      "7         good risk    0.800000\n",
      "          bad risk     0.200000\n",
      "8         good risk    0.714286\n",
      "          bad risk     0.285714\n",
      "9         good risk    0.755102\n",
      "          bad risk     0.244898\n",
      "10        good risk    0.714286\n",
      "          bad risk     0.285714\n",
      "11        good risk    0.777778\n",
      "          bad risk     0.222222\n",
      "12        good risk    0.765363\n",
      "          bad risk     0.234637\n",
      "13        good risk    1.000000\n",
      "14        bad risk     0.500000\n",
      "          good risk    0.500000\n",
      "15        good risk    0.812500\n",
      "          bad risk     0.187500\n",
      "16        bad risk     1.000000\n",
      "18        good risk    0.672566\n",
      "          bad risk     0.327434\n",
      "20        good risk    0.750000\n",
      "          bad risk     0.250000\n",
      "21        good risk    0.900000\n",
      "          bad risk     0.100000\n",
      "22        good risk    1.000000\n",
      "24        good risk    0.826087\n",
      "          bad risk     0.173913\n",
      "26        good risk    1.000000\n",
      "27        good risk    0.692308\n",
      "          bad risk     0.307692\n",
      "28        good risk    0.666667\n",
      "          bad risk     0.333333\n",
      "30        good risk    0.825000\n",
      "          bad risk     0.175000\n",
      "33        good risk    0.666667\n",
      "          bad risk     0.333333\n",
      "36        good risk    0.734940\n",
      "          bad risk     0.265060\n",
      "39        good risk    0.800000\n",
      "          bad risk     0.200000\n",
      "40        good risk    1.000000\n",
      "42        good risk    0.727273\n",
      "          bad risk     0.272727\n",
      "45        bad risk     0.600000\n",
      "          good risk    0.400000\n",
      "47        bad risk     1.000000\n",
      "48        good risk    0.833333\n",
      "          bad risk     0.166667\n",
      "54        bad risk     0.500000\n",
      "          good risk    0.500000\n",
      "60        good risk    0.538462\n",
      "          bad risk     0.461538\n",
      "72        good risk    1.000000\n",
      "Name: proportion, dtype: float64\n",
      "==================================================\n",
      "🔍 Distribución de 'target' según la columna: Purpose\n",
      "Purpose              target   \n",
      "business             good risk    0.762887\n",
      "                     bad risk     0.237113\n",
      "car                  good risk    0.780415\n",
      "                     bad risk     0.219585\n",
      "domestic appliances  good risk    0.750000\n",
      "                     bad risk     0.250000\n",
      "education            good risk    0.762712\n",
      "                     bad risk     0.237288\n",
      "furniture/equipment  good risk    0.779006\n",
      "                     bad risk     0.220994\n",
      "radio/TV             good risk    0.750000\n",
      "                     bad risk     0.250000\n",
      "repairs              good risk    0.863636\n",
      "                     bad risk     0.136364\n",
      "vacation/others      good risk    0.666667\n",
      "                     bad risk     0.333333\n",
      "Name: proportion, dtype: float64\n",
      "==================================================\n"
     ]
    }
   ],
   "source": [
    "for col in X.columns:\n",
    "    print(f\"🔍 Distribución de 'target' según la columna: {col}\")\n",
    "    print(df.groupby(col)[\"target\"].value_counts(normalize=True))\n",
    "    print(\"=\"*50)"
   ]
  },
  {
   "cell_type": "markdown",
   "id": "b5fca448-e0d2-45a3-b96e-2cb280b51911",
   "metadata": {},
   "source": [
    "## Check balance for training data for sagemaker"
   ]
  },
  {
   "cell_type": "code",
   "execution_count": 10,
   "id": "f95bdfab-1899-4055-b0c6-bcfebfd0d6da",
   "metadata": {},
   "outputs": [
    {
     "name": "stdout",
     "output_type": "stream",
     "text": [
      "==================================================\n",
      "Age:\n"
     ]
    },
    {
     "data": {
      "text/plain": [
       "Age  Age  target   \n",
       "19   19   bad risk     0.500000\n",
       "          good risk    0.500000\n",
       "20   20   bad risk     0.428571\n",
       "          good risk    0.571429\n",
       "21   21   bad risk     0.642857\n",
       "                         ...   \n",
       "70   70   bad risk     1.000000\n",
       "74   74   bad risk     0.750000\n",
       "          good risk    0.250000\n",
       "75   75   bad risk     0.500000\n",
       "          good risk    0.500000\n",
       "Length: 100, dtype: float64"
      ]
     },
     "metadata": {},
     "output_type": "display_data"
    },
    {
     "name": "stdout",
     "output_type": "stream",
     "text": [
      "==================================================\n",
      "Sex:\n"
     ]
    },
    {
     "data": {
      "text/plain": [
       "Sex     Sex     target   \n",
       "female  female  bad risk     0.193548\n",
       "                good risk    0.806452\n",
       "male    male    bad risk     0.247826\n",
       "                good risk    0.752174\n",
       "dtype: float64"
      ]
     },
     "metadata": {},
     "output_type": "display_data"
    },
    {
     "name": "stdout",
     "output_type": "stream",
     "text": [
      "==================================================\n",
      "Job:\n"
     ]
    },
    {
     "data": {
      "text/plain": [
       "Job  Job  target   \n",
       "0    0    bad risk     0.772727\n",
       "          good risk    0.227273\n",
       "1    1    bad risk     0.210000\n",
       "          good risk    0.790000\n",
       "2    2    bad risk     0.219048\n",
       "          good risk    0.780952\n",
       "3    3    bad risk     0.229730\n",
       "          good risk    0.770270\n",
       "dtype: float64"
      ]
     },
     "metadata": {},
     "output_type": "display_data"
    },
    {
     "name": "stdout",
     "output_type": "stream",
     "text": [
      "==================================================\n",
      "Housing:\n"
     ]
    },
    {
     "data": {
      "text/plain": [
       "Housing  Housing  target   \n",
       "free     free     bad risk     0.398148\n",
       "                  good risk    0.601852\n",
       "own      own      bad risk     0.171108\n",
       "                  good risk    0.828892\n",
       "rent     rent     bad risk     0.368715\n",
       "                  good risk    0.631285\n",
       "dtype: float64"
      ]
     },
     "metadata": {},
     "output_type": "display_data"
    },
    {
     "name": "stdout",
     "output_type": "stream",
     "text": [
      "==================================================\n",
      "Saving accounts:\n"
     ]
    },
    {
     "data": {
      "text/plain": [
       "Saving accounts  Saving accounts  target   \n",
       "little           little           bad risk     0.325041\n",
       "                                  good risk    0.674959\n",
       "moderate         moderate         bad risk     0.038835\n",
       "                                  good risk    0.961165\n",
       "quite rich       quite rich       bad risk     0.047619\n",
       "                                  good risk    0.952381\n",
       "rich             rich             good risk    1.000000\n",
       "dtype: float64"
      ]
     },
     "metadata": {},
     "output_type": "display_data"
    },
    {
     "name": "stdout",
     "output_type": "stream",
     "text": [
      "==================================================\n",
      "Checking account:\n"
     ]
    },
    {
     "data": {
      "text/plain": [
       "Checking account  Checking account  target   \n",
       "little            little            bad risk     0.383212\n",
       "                                    good risk    0.616788\n",
       "moderate          moderate          bad risk     0.141264\n",
       "                                    good risk    0.858736\n",
       "rich              rich              bad risk     0.031746\n",
       "                                    good risk    0.968254\n",
       "dtype: float64"
      ]
     },
     "metadata": {},
     "output_type": "display_data"
    },
    {
     "name": "stdout",
     "output_type": "stream",
     "text": [
      "==================================================\n",
      "Credit amount:\n"
     ]
    },
    {
     "data": {
      "text/plain": [
       "Credit amount  Credit amount  target   \n",
       "250            250            good risk    1.0\n",
       "276            276            good risk    1.0\n",
       "338            338            good risk    1.0\n",
       "339            339            good risk    1.0\n",
       "343            343            good risk    1.0\n",
       "                                          ... \n",
       "15653          15653          bad risk     1.0\n",
       "15672          15672          good risk    1.0\n",
       "15857          15857          good risk    1.0\n",
       "15945          15945          bad risk     1.0\n",
       "18424          18424          good risk    1.0\n",
       "Length: 957, dtype: float64"
      ]
     },
     "metadata": {},
     "output_type": "display_data"
    },
    {
     "name": "stdout",
     "output_type": "stream",
     "text": [
      "==================================================\n",
      "Duration:\n"
     ]
    },
    {
     "data": {
      "text/plain": [
       "Duration  Duration  target   \n",
       "4         4         bad risk     0.333333\n",
       "                    good risk    0.666667\n",
       "5         5         bad risk     1.000000\n",
       "6         6         bad risk     0.173333\n",
       "                    good risk    0.826667\n",
       "7         7         bad risk     0.200000\n",
       "                    good risk    0.800000\n",
       "8         8         bad risk     0.285714\n",
       "                    good risk    0.714286\n",
       "9         9         bad risk     0.244898\n",
       "                    good risk    0.755102\n",
       "10        10        bad risk     0.285714\n",
       "                    good risk    0.714286\n",
       "11        11        bad risk     0.222222\n",
       "                    good risk    0.777778\n",
       "12        12        bad risk     0.234637\n",
       "                    good risk    0.765363\n",
       "13        13        good risk    1.000000\n",
       "14        14        bad risk     0.500000\n",
       "                    good risk    0.500000\n",
       "15        15        bad risk     0.187500\n",
       "                    good risk    0.812500\n",
       "16        16        bad risk     1.000000\n",
       "18        18        bad risk     0.327434\n",
       "                    good risk    0.672566\n",
       "20        20        bad risk     0.250000\n",
       "                    good risk    0.750000\n",
       "21        21        bad risk     0.100000\n",
       "                    good risk    0.900000\n",
       "22        22        good risk    1.000000\n",
       "24        24        bad risk     0.173913\n",
       "                    good risk    0.826087\n",
       "26        26        good risk    1.000000\n",
       "27        27        bad risk     0.307692\n",
       "                    good risk    0.692308\n",
       "28        28        bad risk     0.333333\n",
       "                    good risk    0.666667\n",
       "30        30        bad risk     0.175000\n",
       "                    good risk    0.825000\n",
       "33        33        bad risk     0.333333\n",
       "                    good risk    0.666667\n",
       "36        36        bad risk     0.265060\n",
       "                    good risk    0.734940\n",
       "39        39        bad risk     0.200000\n",
       "                    good risk    0.800000\n",
       "40        40        good risk    1.000000\n",
       "42        42        bad risk     0.272727\n",
       "                    good risk    0.727273\n",
       "45        45        bad risk     0.600000\n",
       "                    good risk    0.400000\n",
       "47        47        bad risk     1.000000\n",
       "48        48        bad risk     0.166667\n",
       "                    good risk    0.833333\n",
       "54        54        bad risk     0.500000\n",
       "                    good risk    0.500000\n",
       "60        60        bad risk     0.461538\n",
       "                    good risk    0.538462\n",
       "72        72        good risk    1.000000\n",
       "dtype: float64"
      ]
     },
     "metadata": {},
     "output_type": "display_data"
    },
    {
     "name": "stdout",
     "output_type": "stream",
     "text": [
      "==================================================\n",
      "Purpose:\n"
     ]
    },
    {
     "data": {
      "text/plain": [
       "Purpose              Purpose              target   \n",
       "business             business             bad risk     0.237113\n",
       "                                          good risk    0.762887\n",
       "car                  car                  bad risk     0.219585\n",
       "                                          good risk    0.780415\n",
       "domestic appliances  domestic appliances  bad risk     0.250000\n",
       "                                          good risk    0.750000\n",
       "education            education            bad risk     0.237288\n",
       "                                          good risk    0.762712\n",
       "furniture/equipment  furniture/equipment  bad risk     0.220994\n",
       "                                          good risk    0.779006\n",
       "radio/TV             radio/TV             bad risk     0.250000\n",
       "                                          good risk    0.750000\n",
       "repairs              repairs              bad risk     0.136364\n",
       "                                          good risk    0.863636\n",
       "vacation/others      vacation/others      bad risk     0.333333\n",
       "                                          good risk    0.666667\n",
       "dtype: float64"
      ]
     },
     "metadata": {},
     "output_type": "display_data"
    },
    {
     "name": "stdout",
     "output_type": "stream",
     "text": [
      "==================================================\n",
      "description:\n"
     ]
    },
    {
     "data": {
      "text/plain": [
       "description                                                                                                                                                                                                                                description                                                                                                                                                                                                                                target   \n",
       "After carefully reviewing her financial profile, I cannot recommend approval due to her lack of employment and minimal savings, which present significant credit risk.                                                                     After carefully reviewing her financial profile, I cannot recommend approval due to her lack of employment and minimal savings, which present significant credit risk.                                                                     bad risk     1.0\n",
       "After carefully reviewing her financial profile, her moderate income stability and limited savings suggest she presents a moderate credit risk for this business-focused loan.                                                             After carefully reviewing her financial profile, her moderate income stability and limited savings suggest she presents a moderate credit risk for this business-focused loan.                                                             bad risk     1.0\n",
       "After carefully reviewing her financial profile, the applicant demonstrates solid potential for credit approval with stable housing ownership and moderate account balances.                                                               After carefully reviewing her financial profile, the applicant demonstrates solid potential for credit approval with stable housing ownership and moderate account balances.                                                               good risk    1.0\n",
       "After carefully reviewing her financial profile, this young professional appears to be a moderate credit risk with stable potential for repayment.                                                                                         After carefully reviewing her financial profile, this young professional appears to be a moderate credit risk with stable potential for repayment.                                                                                         good risk    1.0\n",
       "After carefully reviewing her financial profile, this young professional appears to have moderate credit risk, with limited savings and a modest income potentially challenging her ability to consistently manage the proposed car loan.  After carefully reviewing her financial profile, this young professional appears to have moderate credit risk, with limited savings and a modest income potentially challenging her ability to consistently manage the proposed car loan.  bad risk     1.0\n",
       "                                                                                                                                                                                                                                                                                                                                                                                                                                                                                                  ... \n",
       "With a stable job, substantial savings, and homeownership, this 28-year-old applicant demonstrates strong financial health and appears to be a low-risk candidate for the car loan.                                                        With a stable job, substantial savings, and homeownership, this 28-year-old applicant demonstrates strong financial health and appears to be a low-risk candidate for the car loan.                                                        good risk    1.0\n",
       "With a steady job, home ownership, and a modest credit request, this young professional appears to be a low-to-moderate credit risk.                                                                                                       With a steady job, home ownership, and a modest credit request, this young professional appears to be a low-to-moderate credit risk.                                                                                                       good risk    1.0\n",
       "With a young professional seeking a modest car loan and minimal financial reserves, this applicant presents a moderate credit risk requiring careful evaluation.                                                                           With a young professional seeking a modest car loan and minimal financial reserves, this applicant presents a moderate credit risk requiring careful evaluation.                                                                           bad risk     1.0\n",
       "With her stable job, substantial savings, and clear purpose for the loan, this young applicant demonstrates promising financial potential for credit approval.                                                                             With her stable job, substantial savings, and clear purpose for the loan, this young applicant demonstrates promising financial potential for credit approval.                                                                             good risk    1.0\n",
       "With stable employment and modest financial resources, this 43-year-old applicant presents a moderate credit risk for a car loan.                                                                                                          With stable employment and modest financial resources, this 43-year-old applicant presents a moderate credit risk for a car loan.                                                                                                          good risk    1.0\n",
       "Length: 980, dtype: float64"
      ]
     },
     "metadata": {},
     "output_type": "display_data"
    }
   ],
   "source": [
    "FILE = \"data_files/credit_risk_with_targets_cleaned_final.csv\"\n",
    "import pandas as pd\n",
    "\n",
    "df = pd.read_csv(\"data_files/credit_risk_with_targets_cleaned_final.csv\")\n",
    "\n",
    "# Inspect distributions of target per feature value\n",
    "for col in df.columns:\n",
    "    if col != \"target\":\n",
    "        print(\"=\"*50)\n",
    "        print(f\"{col}:\")\n",
    "        display(\n",
    "            df.groupby([col, \"target\"]).size().groupby(level=0).apply(lambda x: x / x.sum())\n",
    "        )"
   ]
  },
  {
   "cell_type": "markdown",
   "id": "b4be9076-43e1-44d4-92b6-5ff69b0aa747",
   "metadata": {},
   "source": [
    "## Binning Credit Amount (4 quantiles): Plot the quantiles"
   ]
  },
  {
   "cell_type": "code",
   "execution_count": 5,
   "id": "1268705e-f1c4-4ede-9e18-85d8f1ee7cde",
   "metadata": {},
   "outputs": [
    {
     "name": "stdout",
     "output_type": "stream",
     "text": [
      "📦 Ranges for each quantile bin:\n",
      "Low: (249.999, 1365.5]\n",
      "Mid-Low: (1365.5, 2319.5]\n",
      "Mid-High: (2319.5, 3972.25]\n",
      "High: (3972.25, 18424.0]\n",
      "\n",
      "📊 Average credit amount per bin:\n",
      "credit_amount_bin\n",
      "Low          989.160\n",
      "Mid-Low     1788.812\n",
      "Mid-High    3069.220\n",
      "High        7237.840\n",
      "Name: Credit amount, dtype: float64\n",
      "\n",
      "📉 Target distribution per bin:\n",
      "credit_amount_bin  target   \n",
      "Low                good risk    0.772\n",
      "                   bad risk     0.228\n",
      "Mid-Low            good risk    0.736\n",
      "                   bad risk     0.264\n",
      "Mid-High           good risk    0.808\n",
      "                   bad risk     0.192\n",
      "High               good risk    0.760\n",
      "                   bad risk     0.240\n",
      "Name: proportion, dtype: float64\n"
     ]
    },
    {
     "name": "stderr",
     "output_type": "stream",
     "text": [
      "/var/folders/rh/yvrpkh0j1sz5_xlbzsnz53000000gn/T/ipykernel_44864/3779589675.py:12: FutureWarning: The default of observed=False is deprecated and will be changed to True in a future version of pandas. Pass observed=False to retain current behavior or observed=True to adopt the future default and silence this warning.\n",
      "  print(df.groupby(\"credit_amount_bin\")[\"Credit amount\"].mean())\n",
      "/var/folders/rh/yvrpkh0j1sz5_xlbzsnz53000000gn/T/ipykernel_44864/3779589675.py:16: FutureWarning: The default of observed=False is deprecated and will be changed to True in a future version of pandas. Pass observed=False to retain current behavior or observed=True to adopt the future default and silence this warning.\n",
      "  print(df.groupby(\"credit_amount_bin\")[\"target\"].value_counts(normalize=True).rename(\"proportion\"))\n"
     ]
    }
   ],
   "source": [
    "# Bin into 4 quantiles\n",
    "df[\"credit_amount_bin\"] = pd.qcut(df[\"Credit amount\"], q=4, labels=[\"Low\", \"Mid-Low\", \"Mid-High\", \"High\"])\n",
    "\n",
    "# Show actual bin intervals\n",
    "bin_ranges = pd.qcut(df[\"Credit amount\"], q=4).unique().sort_values()\n",
    "print(\"📦 Ranges for each quantile bin:\")\n",
    "for i, r in enumerate(bin_ranges):\n",
    "    print(f\"{['Low', 'Mid-Low', 'Mid-High', 'High'][i]}: {r}\")\n",
    "\n",
    "# Average credit amount per bin\n",
    "print(\"\\n📊 Average credit amount per bin:\")\n",
    "print(df.groupby(\"credit_amount_bin\")[\"Credit amount\"].mean())\n",
    "\n",
    "# Distribution of 'target' per bin\n",
    "print(\"\\n📉 Target distribution per bin:\")\n",
    "print(df.groupby(\"credit_amount_bin\")[\"target\"].value_counts(normalize=True).rename(\"proportion\"))"
   ]
  },
  {
   "cell_type": "markdown",
   "id": "640fcef9-ea9f-40ac-a4ac-cbf6b941cc8f",
   "metadata": {},
   "source": [
    "## Plot confusion matrix Log Reg v1"
   ]
  },
  {
   "cell_type": "code",
   "execution_count": 22,
   "id": "0e8d03eb-81fd-47a0-bbbe-db730b936897",
   "metadata": {},
   "outputs": [
    {
     "data": {
      "image/png": "[encoded data removed]",
      "text/plain": [
       "<Figure size 600x500 with 2 Axes>"
      ]
     },
     "metadata": {},
     "output_type": "display_data"
    }
   ],
   "source": [
    "import pandas as pd\n",
    "import matplotlib.pyplot as plt\n",
    "import seaborn as sns\n",
    "from sklearn.metrics import confusion_matrix\n",
    "\n",
    "# Load predictions\n",
    "df = pd.read_csv(\"downloaded_artifacts/predictions.csv\")\n",
    "y_true = df[\"y_true\"]\n",
    "y_pred = df[\"y_pred\"]\n",
    "\n",
    "# Compute confusion matrix\n",
    "cm = confusion_matrix(y_true, y_pred)\n",
    "labels = [\"Bad Risk\", \"Good Risk\"]\n",
    "\n",
    "# Plot\n",
    "plt.figure(figsize=(6, 5))\n",
    "sns.heatmap(cm, annot=True, fmt=\"d\", cmap=\"Blues\", xticklabels=labels, yticklabels=labels)\n",
    "plt.title(\"Confusion Matrix\")\n",
    "plt.xlabel(\"Predicted\")\n",
    "plt.ylabel(\"True\")\n",
    "plt.tight_layout()\n",
    "plt.show()"
   ]
  },
  {
   "cell_type": "markdown",
   "id": "28f4787a-6609-4e89-8a5a-1eb14701f999",
   "metadata": {},
   "source": [
    "## Plot ROC Curve Log Reg v1"
   ]
  },
  {
   "cell_type": "code",
   "execution_count": 17,
   "id": "3963b7c1-91ee-4dd6-b575-5d45f15e353c",
   "metadata": {},
   "outputs": [
    {
     "data": {
      "image/png": "[encoded data removed]",
      "text/plain": [
       "<Figure size 600x500 with 1 Axes>"
      ]
     },
     "metadata": {},
     "output_type": "display_data"
    }
   ],
   "source": [
    "from sklearn.metrics import roc_curve, auc\n",
    "\n",
    "y_prob = df[\"y_prob\"]\n",
    "fpr, tpr, _ = roc_curve(y_true, y_prob)\n",
    "roc_auc = auc(fpr, tpr)\n",
    "\n",
    "plt.figure(figsize=(6, 5))\n",
    "plt.plot(fpr, tpr, color=\"darkorange\", lw=2, label=f\"ROC curve (AUC = {roc_auc:.2f})\")\n",
    "plt.plot([0, 1], [0, 1], color=\"navy\", lw=2, linestyle=\"--\")\n",
    "plt.xlabel(\"False Positive Rate\")\n",
    "plt.ylabel(\"True Positive Rate\")\n",
    "plt.title(\"Receiver Operating Characteristic\")\n",
    "plt.legend(loc=\"lower right\")\n",
    "plt.grid(True)\n",
    "plt.tight_layout()\n",
    "plt.show()"
   ]
  },
  {
   "cell_type": "markdown",
   "id": "3797ce3f-f222-4756-9d3c-4c020fd486a9",
   "metadata": {},
   "source": [
    "## Plot confusion matrix Log Reg v2"
   ]
  },
  {
   "cell_type": "code",
   "execution_count": 20,
   "id": "1dded3e9-07d1-41eb-beb7-ac05cc402bd1",
   "metadata": {},
   "outputs": [
    {
     "data": {
      "image/png": "[encoded data removed]",
      "text/plain": [
       "<Figure size 600x500 with 2 Axes>"
      ]
     },
     "metadata": {},
     "output_type": "display_data"
    }
   ],
   "source": [
    "import pandas as pd\n",
    "import matplotlib.pyplot as plt\n",
    "import seaborn as sns\n",
    "from sklearn.metrics import confusion_matrix\n",
    "\n",
    "# Load predictions\n",
    "df = pd.read_csv(\"downloaded_artifacts/predictions.csv\")\n",
    "y_true = df[\"y_true\"]\n",
    "y_pred = df[\"y_pred\"]\n",
    "\n",
    "# Compute confusion matrix\n",
    "cm = confusion_matrix(y_true, y_pred)\n",
    "labels = [\"Bad Risk\", \"Good Risk\"]\n",
    "\n",
    "# Plot\n",
    "plt.figure(figsize=(6, 5))\n",
    "sns.heatmap(cm, annot=True, fmt=\"d\", cmap=\"Blues\", xticklabels=labels, yticklabels=labels)\n",
    "plt.title(\"Confusion Matrix\")\n",
    "plt.xlabel(\"Predicted\")\n",
    "plt.ylabel(\"True\")\n",
    "plt.tight_layout()\n",
    "plt.show()"
   ]
  },
  {
   "cell_type": "markdown",
   "id": "43365415-546f-4dad-ae02-7af355e63517",
   "metadata": {},
   "source": [
    "## Plot ROC Curve Log Reg v2"
   ]
  },
  {
   "cell_type": "code",
   "execution_count": 19,
   "id": "df490991-9da7-4e98-8a41-1ecaf3d900a7",
   "metadata": {},
   "outputs": [
    {
     "data": {
      "image/png": "[encoded data removed]",
      "text/plain": [
       "<Figure size 600x500 with 1 Axes>"
      ]
     },
     "metadata": {},
     "output_type": "display_data"
    }
   ],
   "source": [
    "from sklearn.metrics import roc_curve, auc\n",
    "\n",
    "y_prob = df[\"y_prob\"]\n",
    "fpr, tpr, _ = roc_curve(y_true, y_prob)\n",
    "roc_auc = auc(fpr, tpr)\n",
    "\n",
    "plt.figure(figsize=(6, 5))\n",
    "plt.plot(fpr, tpr, color=\"darkorange\", lw=2, label=f\"ROC curve (AUC = {roc_auc:.2f})\")\n",
    "plt.plot([0, 1], [0, 1], color=\"navy\", lw=2, linestyle=\"--\")\n",
    "plt.xlabel(\"False Positive Rate\")\n",
    "plt.ylabel(\"True Positive Rate\")\n",
    "plt.title(\"Receiver Operating Characteristic\")\n",
    "plt.legend(loc=\"lower right\")\n",
    "plt.grid(True)\n",
    "plt.tight_layout()\n",
    "plt.show()"
   ]
  }
 ],
 "metadata": {
  "kernelspec": {
   "display_name": "Python 3 (ipykernel)",
   "language": "python",
   "name": "python3"
  },
  "language_info": {
   "codemirror_mode": {
    "name": "ipython",
    "version": 3
   },
   "file_extension": ".py",
   "mimetype": "text/x-python",
   "name": "python",
   "nbconvert_exporter": "python",
   "pygments_lexer": "ipython3",
   "version": "3.11.12"
  }
 },
 "nbformat": 4,
 "nbformat_minor": 5
}
